{
 "cells": [
  {
   "cell_type": "code",
   "execution_count": 5,
   "metadata": {},
   "outputs": [],
   "source": [
    "import requests\n",
    "from bs4 import BeautifulSoup\n",
    "import pandas as pd\n",
    "import re\n",
    "\n",
    "page = requests.get(\"http://www.health.com/health/gallery/0,,20576053,00.html#chicken-breast-with-shaved-brussels-sprouts--0\")\n",
    "soup = BeautifulSoup(page.content, 'html.parser')\n",
    "\n",
    "food = soup.find_all(class_=\"media-body clearfix\")\n",
    "food_title = [info.h2.get_text().strip() for info in food]"
   ]
  },
  {
   "cell_type": "code",
   "execution_count": 10,
   "metadata": {},
   "outputs": [
    {
     "data": {
      "text/plain": [
       "['• Broccoli and Brussels sprouts are loaded with cancer-preventing phytonutrients.\\r',\n",
       " '                    • This dish is very lean: 309 calories and 3.2 grams of saturated fat.\\r',\n",
       " '                    • It also packs potassium, which helps keep your blood pressure down.',\n",
       " '',\n",
       " 'Ingredients: boneless, skinless chicken breast halves, kosher salt, broccoli stems, olive oil, lemon juice, pepper, Brussells sprouts, celery stalks, hazelnuts, parsley and Parmesan cheese',\n",
       " '',\n",
       " 'Calories: 309',\n",
       " '',\n",
       " 'Try this recipe: Chicken Breast With Shaved Brussels Sprouts']"
      ]
     },
     "execution_count": 10,
     "metadata": {},
     "output_type": "execute_result"
    }
   ],
   "source": [
    "desc = [info.p.get_text().split(\"\\n\") for info in food]\n",
    "desc[1]\n"
   ]
  },
  {
   "cell_type": "code",
   "execution_count": 157,
   "metadata": {},
   "outputs": [],
   "source": [
    "table = pd.DataFrame({\n",
    "    \"food_title\" : food_title,\n",
    "    \"desc\" : desc\n",
    "})"
   ]
  },
  {
   "cell_type": "code",
   "execution_count": 158,
   "metadata": {},
   "outputs": [
    {
     "data": {
      "text/html": [
       "<div>\n",
       "<style scoped>\n",
       "    .dataframe tbody tr th:only-of-type {\n",
       "        vertical-align: middle;\n",
       "    }\n",
       "\n",
       "    .dataframe tbody tr th {\n",
       "        vertical-align: top;\n",
       "    }\n",
       "\n",
       "    .dataframe thead th {\n",
       "        text-align: right;\n",
       "    }\n",
       "</style>\n",
       "<table border=\"1\" class=\"dataframe\">\n",
       "  <thead>\n",
       "    <tr style=\"text-align: right;\">\n",
       "      <th></th>\n",
       "      <th>desc</th>\n",
       "      <th>food_title</th>\n",
       "    </tr>\n",
       "  </thead>\n",
       "  <tbody>\n",
       "    <tr>\n",
       "      <th>0</th>\n",
       "      <td>[Does mealtime often get taken over by the nut...</td>\n",
       "      <td>Nutritional power</td>\n",
       "    </tr>\n",
       "    <tr>\n",
       "      <th>1</th>\n",
       "      <td>[• Broccoli and Brussels sprouts are loaded wi...</td>\n",
       "      <td>Chicken Breast With Shaved Brussels Sprouts</td>\n",
       "    </tr>\n",
       "    <tr>\n",
       "      <th>2</th>\n",
       "      <td>[• Eat this and you get more than one-third of...</td>\n",
       "      <td>Barley-Stuffed Poblanos</td>\n",
       "    </tr>\n",
       "    <tr>\n",
       "      <th>3</th>\n",
       "      <td>[• The lean beef provides more than half your ...</td>\n",
       "      <td>Burger With Mushrooms and Radicchio</td>\n",
       "    </tr>\n",
       "    <tr>\n",
       "      <th>4</th>\n",
       "      <td>[• Fatty acids from the walnuts and salmon, as...</td>\n",
       "      <td>Grapefruit and Avocado Salad With Seared Salmon</td>\n",
       "    </tr>\n",
       "    <tr>\n",
       "      <th>5</th>\n",
       "      <td>[• Very low in sugar—only 1 gram!,            ...</td>\n",
       "      <td>Brown Rice Bowl With Turkey</td>\n",
       "    </tr>\n",
       "    <tr>\n",
       "      <th>6</th>\n",
       "      <td>[• This meal makes for excellent post-workout ...</td>\n",
       "      <td>Spaghetti With Wilted Greens and Walnut-Parsle...</td>\n",
       "    </tr>\n",
       "    <tr>\n",
       "      <th>7</th>\n",
       "      <td>[• You'll get an immune boost from the beta-ca...</td>\n",
       "      <td>Sweet Potato and Spinach Quesadillas</td>\n",
       "    </tr>\n",
       "  </tbody>\n",
       "</table>\n",
       "</div>"
      ],
      "text/plain": [
       "                                                desc  \\\n",
       "0  [Does mealtime often get taken over by the nut...   \n",
       "1  [• Broccoli and Brussels sprouts are loaded wi...   \n",
       "2  [• Eat this and you get more than one-third of...   \n",
       "3  [• The lean beef provides more than half your ...   \n",
       "4  [• Fatty acids from the walnuts and salmon, as...   \n",
       "5  [• Very low in sugar—only 1 gram!,            ...   \n",
       "6  [• This meal makes for excellent post-workout ...   \n",
       "7  [• You'll get an immune boost from the beta-ca...   \n",
       "\n",
       "                                          food_title  \n",
       "0                                  Nutritional power  \n",
       "1        Chicken Breast With Shaved Brussels Sprouts  \n",
       "2                            Barley-Stuffed Poblanos  \n",
       "3                Burger With Mushrooms and Radicchio  \n",
       "4    Grapefruit and Avocado Salad With Seared Salmon  \n",
       "5                        Brown Rice Bowl With Turkey  \n",
       "6  Spaghetti With Wilted Greens and Walnut-Parsle...  \n",
       "7               Sweet Potato and Spinach Quesadillas  "
      ]
     },
     "execution_count": 158,
     "metadata": {},
     "output_type": "execute_result"
    }
   ],
   "source": [
    "table"
   ]
  },
  {
   "cell_type": "code",
   "execution_count": null,
   "metadata": {},
   "outputs": [],
   "source": []
  },
  {
   "cell_type": "code",
   "execution_count": null,
   "metadata": {},
   "outputs": [],
   "source": []
  }
 ],
 "metadata": {
  "kernelspec": {
   "display_name": "Python 3",
   "language": "python",
   "name": "python3"
  },
  "language_info": {
   "codemirror_mode": {
    "name": "ipython",
    "version": 3
   },
   "file_extension": ".py",
   "mimetype": "text/x-python",
   "name": "python",
   "nbconvert_exporter": "python",
   "pygments_lexer": "ipython3",
   "version": "3.6.4"
  }
 },
 "nbformat": 4,
 "nbformat_minor": 2
}
