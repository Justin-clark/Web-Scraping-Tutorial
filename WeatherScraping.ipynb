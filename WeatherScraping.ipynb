{
 "cells": [
  {
   "cell_type": "code",
   "execution_count": 5,
   "metadata": {},
   "outputs": [],
   "source": [
    "import requests\n",
    "import pandas as pd\n",
    "\n",
    "page = requests.get(\"https://forecast.weather.gov/MapClick.php?lat=37.7772&lon=-122.4168#.WuKputPwZmA\")\n",
    "\n",
    "from bs4 import BeautifulSoup\n",
    "soup = BeautifulSoup(page.content,'html.parser')\n",
    "\n",
    "# Extracting a single element from data\n",
    "\n",
    "seven_day = soup.find(id=\"seven-day-forecast\") # tag that holds the weather info\n",
    "\n",
    "forecast_items = seven_day.find_all(class_=\"tombstone-container\") # forecast for the seven days\n",
    "\n",
    "tonight = forecast_items[0] # forecast for the first day\n",
    "\n",
    "period = tonight.find(class_=\"period_name\") # tag for tonight\n",
    "short_desc = tonight.find(class_=\"short-desc\") # tag with short description\n",
    "temp = tonight.find(class_=\"temp\") # tag with temperature\n",
    "\n",
    "img = tonight.find(\"img\") # extract img tag\n",
    "desc = img['title'] # extract the 'title' from img tag\n",
    "\n",
    "# Extracting all elements from data\n",
    "\n",
    "period_tags = seven_day.select(\".tombstone-container .period-name\") # uses css selectors to select period names\n",
    "periods = [pt.get_text() for pt in period_tags] # iterate through period tags which hold which day it is\n",
    "# same method can be used to access their descriptions\n",
    "short_descs = [sd.get_text() for sd in seven_day.select(\".tombstone-container .short-desc\")]\n",
    "temps = [t.get_text() for t in seven_day.select(\".tombstone-container .temp\")]\n",
    "descs = [d[\"title\"] for d in seven_day.select(\".tombstone-container img\")]\n",
    "\n",
    "# now we use Pandas to analyze the data\n",
    "\n",
    "weather = pd.DataFrame({ # we use the data frame class and pass in each list of items as a dictionary\n",
    "    \"Periods\" : periods,\n",
    "    \"Short_descs\" : short_descs,\n",
    "    \"Temps\" : temps,\n",
    "    \"Descs\" : descs\n",
    "})\n",
    "\n",
    "\n"
   ]
  },
  {
   "cell_type": "code",
   "execution_count": 6,
   "metadata": {},
   "outputs": [
    {
     "data": {
      "text/html": [
       "<div>\n",
       "<style scoped>\n",
       "    .dataframe tbody tr th:only-of-type {\n",
       "        vertical-align: middle;\n",
       "    }\n",
       "\n",
       "    .dataframe tbody tr th {\n",
       "        vertical-align: top;\n",
       "    }\n",
       "\n",
       "    .dataframe thead th {\n",
       "        text-align: right;\n",
       "    }\n",
       "</style>\n",
       "<table border=\"1\" class=\"dataframe\">\n",
       "  <thead>\n",
       "    <tr style=\"text-align: right;\">\n",
       "      <th></th>\n",
       "      <th>Descs</th>\n",
       "      <th>Periods</th>\n",
       "      <th>Short_descs</th>\n",
       "      <th>Temps</th>\n",
       "    </tr>\n",
       "  </thead>\n",
       "  <tbody>\n",
       "    <tr>\n",
       "      <th>0</th>\n",
       "      <td>Tonight: Partly cloudy, with a low around 51. ...</td>\n",
       "      <td>Tonight</td>\n",
       "      <td>Partly Cloudy</td>\n",
       "      <td>Low: 51 °F</td>\n",
       "    </tr>\n",
       "    <tr>\n",
       "      <th>1</th>\n",
       "      <td>Monday: Mostly sunny, with a high near 61. Wes...</td>\n",
       "      <td>Monday</td>\n",
       "      <td>Mostly Sunny</td>\n",
       "      <td>High: 61 °F</td>\n",
       "    </tr>\n",
       "    <tr>\n",
       "      <th>2</th>\n",
       "      <td>Monday Night: Mostly clear, with a low around ...</td>\n",
       "      <td>MondayNight</td>\n",
       "      <td>Mostly Clear</td>\n",
       "      <td>Low: 50 °F</td>\n",
       "    </tr>\n",
       "    <tr>\n",
       "      <th>3</th>\n",
       "      <td>Tuesday: Sunny, with a high near 65. West wind...</td>\n",
       "      <td>Tuesday</td>\n",
       "      <td>Sunny</td>\n",
       "      <td>High: 65 °F</td>\n",
       "    </tr>\n",
       "    <tr>\n",
       "      <th>4</th>\n",
       "      <td>Tuesday Night: Mostly clear, with a low around...</td>\n",
       "      <td>TuesdayNight</td>\n",
       "      <td>Mostly Clear</td>\n",
       "      <td>Low: 51 °F</td>\n",
       "    </tr>\n",
       "    <tr>\n",
       "      <th>5</th>\n",
       "      <td>Wednesday: Sunny, with a high near 66.</td>\n",
       "      <td>Wednesday</td>\n",
       "      <td>Sunny</td>\n",
       "      <td>High: 66 °F</td>\n",
       "    </tr>\n",
       "    <tr>\n",
       "      <th>6</th>\n",
       "      <td>Wednesday Night: Mostly clear, with a low arou...</td>\n",
       "      <td>WednesdayNight</td>\n",
       "      <td>Mostly Clear</td>\n",
       "      <td>Low: 52 °F</td>\n",
       "    </tr>\n",
       "    <tr>\n",
       "      <th>7</th>\n",
       "      <td>Thursday: Mostly sunny, with a high near 65.</td>\n",
       "      <td>Thursday</td>\n",
       "      <td>Mostly Sunny</td>\n",
       "      <td>High: 65 °F</td>\n",
       "    </tr>\n",
       "    <tr>\n",
       "      <th>8</th>\n",
       "      <td>Thursday Night: Partly cloudy, with a low arou...</td>\n",
       "      <td>ThursdayNight</td>\n",
       "      <td>Partly Cloudy</td>\n",
       "      <td>Low: 52 °F</td>\n",
       "    </tr>\n",
       "  </tbody>\n",
       "</table>\n",
       "</div>"
      ],
      "text/plain": [
       "                                               Descs         Periods  \\\n",
       "0  Tonight: Partly cloudy, with a low around 51. ...         Tonight   \n",
       "1  Monday: Mostly sunny, with a high near 61. Wes...          Monday   \n",
       "2  Monday Night: Mostly clear, with a low around ...     MondayNight   \n",
       "3  Tuesday: Sunny, with a high near 65. West wind...         Tuesday   \n",
       "4  Tuesday Night: Mostly clear, with a low around...    TuesdayNight   \n",
       "5             Wednesday: Sunny, with a high near 66.       Wednesday   \n",
       "6  Wednesday Night: Mostly clear, with a low arou...  WednesdayNight   \n",
       "7       Thursday: Mostly sunny, with a high near 65.        Thursday   \n",
       "8  Thursday Night: Partly cloudy, with a low arou...   ThursdayNight   \n",
       "\n",
       "     Short_descs        Temps  \n",
       "0  Partly Cloudy   Low: 51 °F  \n",
       "1   Mostly Sunny  High: 61 °F  \n",
       "2   Mostly Clear   Low: 50 °F  \n",
       "3          Sunny  High: 65 °F  \n",
       "4   Mostly Clear   Low: 51 °F  \n",
       "5          Sunny  High: 66 °F  \n",
       "6   Mostly Clear   Low: 52 °F  \n",
       "7   Mostly Sunny  High: 65 °F  \n",
       "8  Partly Cloudy   Low: 52 °F  "
      ]
     },
     "execution_count": 6,
     "metadata": {},
     "output_type": "execute_result"
    }
   ],
   "source": [
    "weather"
   ]
  },
  {
   "cell_type": "code",
   "execution_count": 7,
   "metadata": {},
   "outputs": [],
   "source": [
    "temp_nums = weather[\"Temps\"].str.extract(\"(?P<temp_num>\\d+)\", expand=False)"
   ]
  },
  {
   "cell_type": "code",
   "execution_count": 8,
   "metadata": {},
   "outputs": [],
   "source": [
    "weather[\"temp_num\"] = temp_nums.astype('int')"
   ]
  },
  {
   "cell_type": "code",
   "execution_count": 9,
   "metadata": {},
   "outputs": [
    {
     "data": {
      "text/plain": [
       "0    51\n",
       "1    61\n",
       "2    50\n",
       "3    65\n",
       "4    51\n",
       "5    66\n",
       "6    52\n",
       "7    65\n",
       "8    52\n",
       "Name: temp_num, dtype: object"
      ]
     },
     "execution_count": 9,
     "metadata": {},
     "output_type": "execute_result"
    }
   ],
   "source": [
    "temp_nums"
   ]
  },
  {
   "cell_type": "code",
   "execution_count": 11,
   "metadata": {},
   "outputs": [
    {
     "data": {
      "text/plain": [
       "57.0"
      ]
     },
     "execution_count": 11,
     "metadata": {},
     "output_type": "execute_result"
    }
   ],
   "source": [
    "weather[\"temp_num\"].mean()"
   ]
  },
  {
   "cell_type": "code",
   "execution_count": 14,
   "metadata": {},
   "outputs": [],
   "source": [
    "is_night = weather[\"Temps\"].str.contains(\"Low\")"
   ]
  },
  {
   "cell_type": "code",
   "execution_count": 15,
   "metadata": {},
   "outputs": [],
   "source": [
    "weather[\"is_night\"] = is_night"
   ]
  },
  {
   "cell_type": "code",
   "execution_count": 16,
   "metadata": {},
   "outputs": [
    {
     "data": {
      "text/plain": [
       "0     True\n",
       "1    False\n",
       "2     True\n",
       "3    False\n",
       "4     True\n",
       "5    False\n",
       "6     True\n",
       "7    False\n",
       "8     True\n",
       "Name: Temps, dtype: bool"
      ]
     },
     "execution_count": 16,
     "metadata": {},
     "output_type": "execute_result"
    }
   ],
   "source": [
    "is_night"
   ]
  },
  {
   "cell_type": "code",
   "execution_count": null,
   "metadata": {},
   "outputs": [],
   "source": [
    "weather[is_night]"
   ]
  },
  {
   "cell_type": "code",
   "execution_count": null,
   "metadata": {},
   "outputs": [],
   "source": []
  }
 ],
 "metadata": {
  "kernelspec": {
   "display_name": "Python 3",
   "language": "python",
   "name": "python3"
  },
  "language_info": {
   "codemirror_mode": {
    "name": "ipython",
    "version": 3
   },
   "file_extension": ".py",
   "mimetype": "text/x-python",
   "name": "python",
   "nbconvert_exporter": "python",
   "pygments_lexer": "ipython3",
   "version": "3.6.4"
  },
  "widgets": {
   "application/vnd.jupyter.widget-state+json": {
    "state": {},
    "version_major": 2,
    "version_minor": 0
   }
  }
 },
 "nbformat": 4,
 "nbformat_minor": 2
}
